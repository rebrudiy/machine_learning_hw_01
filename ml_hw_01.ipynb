{
 "cells": [
  {
   "cell_type": "markdown",
   "metadata": {},
   "source": [
    "## 📌О задании\n",
    "\n",
    "В этом домашнем задании вы попрактикуетесь в работе с библиотеками **Pandas и NumPy**.\n",
    "\n",
    "- Библиотека Pandas удобная для работы с табличными данными в Python. Наличие готовых методов позволяет не реализовывать самостоятельно поэлементную обработку данных и оперировать сразу целыми таблицами данных. Основной объект в pandas — это DataFrame, представляющий собой таблицу с именованными колонками различных типов, индексом. DataFrame можно создавать, считывая таблицу из файла или задавая вручную из других объектов. Подробнее с основными возможностями библиотеки можно ознакомиться здесь: https://pandas.pydata.org/pandas-docs/stable/user_guide/10min.html\n",
    "\n",
    "\n",
    "- Библиотека NumPy позволяет сравнительно легко и удобно выполнять разнообразные вычисления, избегая самостоятельной реализации поэлементной обработки. При выполнении заданий из данной части необходимо написать код решения внутри функции и убедиться, что она работает, с помощью assert на выражение с использованием этой функции для данных из условия. Также постарайтесь (настоятельно рекомендуется!) не использовать циклы и условный оператор. Подробнее с основными возможностями библиотеки можно ознакомиться здесь: https://numpy.org/doc/stable/reference/index.html"
   ]
  },
  {
   "cell_type": "markdown",
   "metadata": {},
   "source": [
    "### 😘 Напутствие:\n",
    "- Помните, что data scientist профессия креативная, поэтому не существуют единственно верного ответа, на прдложенные ниже задачи.\n",
    "- Старайтесь максимально задействовать арсенал библиотек.\n",
    "- Пишите читаемый понятный код.\n",
    "- Если задача не получается - не сдавайтесь. Гугл и stackoverflow вам в помощь!"
   ]
  },
  {
   "cell_type": "markdown",
   "metadata": {},
   "source": [
    "### 🐼Pandas"
   ]
  },
  {
   "cell_type": "markdown",
   "metadata": {},
   "source": [
    "Начнем погружение в data science с классики. В данной части домашней работы вы будете исследовать данные о пассажирах Титаника.\n",
    "\n",
    "https://www.kaggle.com/c/titanic/data"
   ]
  },
  {
   "cell_type": "markdown",
   "metadata": {},
   "source": [
    "Вам требуется скачать данные и выполнить задания."
   ]
  },
  {
   "cell_type": "code",
   "execution_count": 1,
   "metadata": {},
   "outputs": [],
   "source": [
    "import pandas as pd"
   ]
  },
  {
   "cell_type": "markdown",
   "metadata": {},
   "source": [
    "✅ 1. Откройте в ноутбуке файл с данными (\"train.csv\") и выведите первые и последние 5 строк датафрейма"
   ]
  },
  {
   "cell_type": "code",
   "execution_count": null,
   "metadata": {},
   "outputs": [],
   "source": []
  },
  {
   "cell_type": "markdown",
   "metadata": {},
   "source": [
    "✅ 2. Какой размер имеет датафрейм?"
   ]
  },
  {
   "cell_type": "code",
   "execution_count": null,
   "metadata": {},
   "outputs": [],
   "source": []
  },
  {
   "cell_type": "markdown",
   "metadata": {},
   "source": [
    "✅ 3. Для каждого из признаков укажите его тип (вещественный, категориальный, порядковый, другое). Придумайте три задачи, которые можно было бы решать для данного датасета — задачу регрессии, задачу классификации и задачу кластеризации."
   ]
  },
  {
   "cell_type": "code",
   "execution_count": null,
   "metadata": {},
   "outputs": [],
   "source": []
  },
  {
   "cell_type": "markdown",
   "metadata": {},
   "source": [
    "✅ 4. Какова доля выживших после крушения:\n",
    "    - всех пассажиров\n",
    "    - мужчин\n",
    "    - женщин?"
   ]
  },
  {
   "cell_type": "code",
   "execution_count": null,
   "metadata": {},
   "outputs": [],
   "source": []
  },
  {
   "cell_type": "markdown",
   "metadata": {},
   "source": [
    "✅ 5. Сколько пассажиров ехало в каждом классе?"
   ]
  },
  {
   "cell_type": "code",
   "execution_count": null,
   "metadata": {},
   "outputs": [],
   "source": []
  },
  {
   "cell_type": "markdown",
   "metadata": {},
   "source": [
    "✅ 6. Сколько в среднем пассажиры заплатили за проезд?"
   ]
  },
  {
   "cell_type": "code",
   "execution_count": null,
   "metadata": {},
   "outputs": [],
   "source": []
  },
  {
   "cell_type": "markdown",
   "metadata": {},
   "source": [
    "✅ 7. Все ли признаки несут в себе полезную информацию?\n",
    "    - Избавьтесь от ненужных столбцов, опишите почему вы решили от них избавиться"
   ]
  },
  {
   "cell_type": "code",
   "execution_count": null,
   "metadata": {},
   "outputs": [],
   "source": []
  },
  {
   "cell_type": "markdown",
   "metadata": {},
   "source": [
    "✅ 8. Есть ли в данных пропуски? В каких столбцах: сколько пропусков в каждом из них?"
   ]
  },
  {
   "cell_type": "code",
   "execution_count": null,
   "metadata": {},
   "outputs": [],
   "source": []
  },
  {
   "cell_type": "markdown",
   "metadata": {},
   "source": [
    "✅ 9. Предположите каким значением стоит заполнить пропуски в каждом столбце в зависимости от его типа. Заполните пропуски и проверьте, что пропусков больше нет."
   ]
  },
  {
   "cell_type": "code",
   "execution_count": null,
   "metadata": {},
   "outputs": [],
   "source": []
  },
  {
   "cell_type": "markdown",
   "metadata": {},
   "source": [
    "✅ 10. Правда ли, что чаще выживали пассажиры с более дорогими билетами?"
   ]
  },
  {
   "cell_type": "code",
   "execution_count": null,
   "metadata": {},
   "outputs": [],
   "source": []
  },
  {
   "cell_type": "markdown",
   "metadata": {},
   "source": [
    "✅ 11. Создание новых признаков (feature engineering) является одним из основных средств улучшения качества работы алгоритмов машинного обучения на этапе обработки данных. \n",
    " - Добавьте в таблицу столбец, который будет показывать, сколько родных плыло вместе с пассажиром на корабле, включая его самого.\n",
    " - Придумайте свой признак, который может быть полезен, и добавьте его в таблицу."
   ]
  },
  {
   "cell_type": "code",
   "execution_count": null,
   "metadata": {},
   "outputs": [],
   "source": []
  },
  {
   "cell_type": "markdown",
   "metadata": {},
   "source": [
    "✅ 12. Есть ли в данных пропуски? В каких столбцах: сколько пропусков в каждом из них?"
   ]
  },
  {
   "cell_type": "code",
   "execution_count": null,
   "metadata": {},
   "outputs": [],
   "source": []
  },
  {
   "cell_type": "markdown",
   "metadata": {},
   "source": [
    "✅ 13. Какая фамилия была самой популярной на корабле?)"
   ]
  },
  {
   "cell_type": "code",
   "execution_count": null,
   "metadata": {},
   "outputs": [],
   "source": []
  },
  {
   "cell_type": "markdown",
   "metadata": {},
   "source": [
    "### 📈Numpy "
   ]
  },
  {
   "cell_type": "code",
   "execution_count": 2,
   "metadata": {},
   "outputs": [],
   "source": [
    "import numpy as np"
   ]
  },
  {
   "cell_type": "markdown",
   "metadata": {},
   "source": [
    "✅ 1. Напишите функцию, возвращающую округленную взвешенную сумму чисел по данным числам и весам к ним. "
   ]
  },
  {
   "cell_type": "code",
   "execution_count": 3,
   "metadata": {},
   "outputs": [],
   "source": [
    "def weighted_size_numbers(weights: np.array, marks: np.array) -> int:\n",
    "    # your code here\n",
    "    \n",
    "    return "
   ]
  },
  {
   "cell_type": "code",
   "execution_count": 4,
   "metadata": {},
   "outputs": [],
   "source": [
    "weights = np.array([0.3, 0.4, 0.2, 0.1])\n",
    "marks = np.array([7, 10, 8, 6])\n",
    "\n",
    "assert weighted_size_numbers(weights, marks) == 8"
   ]
  },
  {
   "cell_type": "code",
   "execution_count": 5,
   "metadata": {},
   "outputs": [],
   "source": [
    "weights = np.array([0.3, 0.4, 0.2, 0.1])\n",
    "marks = np.array([7, 0, 8, 6])\n",
    "\n",
    "assert weighted_size_numbers(weights, marks) == 4"
   ]
  },
  {
   "cell_type": "markdown",
   "metadata": {},
   "source": [
    "✅ 2. Напишите функцию, выдающую индексы «близких» элементов заданных массивов, а именно тех пар элементов, чей модуль разницы не превосходит заданного значения. Например, если на вход поступают массив array([1.5, 0.5, 2, -4.1, -3, 6, -1]), массив array([1.2, 0.5, 1, -4, 3, 0, -1.2]) и число 0.5, то на выходе должен получиться массив array([0, 1, 3, 6])."
   ]
  },
  {
   "cell_type": "code",
   "execution_count": 6,
   "metadata": {},
   "outputs": [],
   "source": [
    "def find_close(array1: np.array, array2: np.array, precision: float) -> np.array:\n",
    "    # your code here\n",
    "    return "
   ]
  },
  {
   "cell_type": "code",
   "execution_count": 7,
   "metadata": {},
   "outputs": [],
   "source": [
    "array1 = np.array([1.5, 0.5, 2, -4.1, -3, 6, -1])\n",
    "array2 = np.array([1.2, 0.5, 1, -4.0,  3, 0, -1.2])\n",
    "precision = 0.5\n",
    "res = find_close(array1, array2, precision)\n",
    "\n",
    "assert res.ndim == 1\n",
    "assert np.allclose(res, np.array([0, 1, 3, 6]))"
   ]
  },
  {
   "cell_type": "code",
   "execution_count": 8,
   "metadata": {},
   "outputs": [],
   "source": [
    "array1 = np.array([3.1415, 2.7182, 1.6180, 6.6261])\n",
    "array2 = np.array([6.6730, 1.3807, -1,     6.0222])\n",
    "precision = 1.7\n",
    "res = find_close(array1, array2, precision)\n",
    "\n",
    "assert res.ndim == 1\n",
    "assert np.allclose(res, np.array([1, 3]))"
   ]
  },
  {
   "cell_type": "markdown",
   "metadata": {},
   "source": [
    "✅ 3. Напишите функцию, вычисляющую произведение всех ненулевых диагональных элементов на диагонали данной квадратной матрицы. Например, если на вход поступает матрица\n",
    "$$\n",
    "\\begin{pmatrix}\n",
    "0 & 1 & 2\\\\\n",
    "3 & 4 & 5\\\\\n",
    "6 & 7 & 8\\\\\n",
    "\\end{pmatrix},\n",
    "$$\n",
    "то ответом будет 32.\n",
    "\n",
    "Элементы матрицы считать целочисленными."
   ]
  },
  {
   "cell_type": "code",
   "execution_count": 9,
   "metadata": {},
   "outputs": [],
   "source": [
    "def diag_prod(matrix: np.array) -> int:\n",
    "    # your code here\n",
    "    return res"
   ]
  },
  {
   "cell_type": "code",
   "execution_count": 10,
   "metadata": {},
   "outputs": [],
   "source": [
    "matrix = np.array([[0, 1, 2, 3],\n",
    "                   [4, 5, 6, 7],\n",
    "                   [8, 9, 10, 11],\n",
    "                   [12, 13, 14, 15]])\n",
    "\n",
    "assert diag_prod(matrix) == 750"
   ]
  },
  {
   "cell_type": "markdown",
   "metadata": {},
   "source": [
    "✅ 4. Для улучшения качества работы некоторых алгоритмов машинного обучения может быть полезно использовать [нормализацию данных](https://vk.cc/8xmfQk), чтобы привести признаки в выборке к одному масштабу — а именно, из каждого столбца вычесть среднее его значений и поделить на их стандартное отклонение. Напишите функцию, нормализующую входящую матрицу (по столбцам). Помните, что в вашем матрице не должно получаться пустых значений nan. \n",
    "\n",
    "4* Подумайте, почему могли бы возникнуть пустые значения?)"
   ]
  },
  {
   "cell_type": "code",
   "execution_count": 11,
   "metadata": {},
   "outputs": [],
   "source": [
    "def normalize(matrix: np.array) -> np.array:\n",
    "    # your code here\n",
    "    return "
   ]
  },
  {
   "cell_type": "code",
   "execution_count": 12,
   "metadata": {},
   "outputs": [],
   "source": [
    "matrix = np.array([[1, 4, 4200], [0, 10, 5000], [1, 2, 1000]])\n",
    "\n",
    "assert np.allclose(\n",
    "    normalize(matrix),\n",
    "    np.array([[ 0.7071, -0.39223,  0.46291],\n",
    "              [-1.4142,  1.37281,  0.92582],\n",
    "              [ 0.7071, -0.98058, -1.38873]])\n",
    ")"
   ]
  },
  {
   "cell_type": "code",
   "execution_count": 13,
   "metadata": {},
   "outputs": [],
   "source": [
    "matrix = np.array([[-7, 2, 42], [2, 10, 50], [5, 4, 10]])\n",
    "\n",
    "assert np.allclose(\n",
    "    normalize(matrix),\n",
    "    np.array([[-1.37281, -0.98058,  0.46291],\n",
    "              [ 0.39223,  1.37281,  0.92582],\n",
    "              [ 0.98058, -0.39223, -1.38873]])\n",
    ")"
   ]
  },
  {
   "cell_type": "markdown",
   "metadata": {},
   "source": [
    "✅ 5. Напишите функцию, вычисляющую косинусную близость двух векторов. Например, если на вход поступают вектора array([-2, 1, 0, -5, 4, 3, -3]) и array([0, 2, -2, 10, 6, 0, 0]), ответом будет -0.25."
   ]
  },
  {
   "cell_type": "code",
   "execution_count": 14,
   "metadata": {},
   "outputs": [],
   "source": [
    "def cosine_similarity(vec1: np.array, vec2: np.array) -> float:\n",
    "    # your code here\n",
    "    return "
   ]
  },
  {
   "cell_type": "code",
   "execution_count": 15,
   "metadata": {},
   "outputs": [],
   "source": [
    "vec1 = np.array([-2, 1,  0, -5, 4, 3, -3])\n",
    "vec2 = np.array([ 0, 2, -2, 10, 6, 0,  0])\n",
    "\n",
    "assert np.allclose(cosine_similarity(vec1, vec2), -0.25)"
   ]
  },
  {
   "cell_type": "code",
   "execution_count": 16,
   "metadata": {},
   "outputs": [],
   "source": [
    "vec1 = np.array([-4, 2,  9, -8, 9, 0, -2])\n",
    "vec2 = np.array([ 3, 2, -4, -1, 3, 2,  2])\n",
    "\n",
    "assert np.allclose(cosine_similarity(vec1, vec2), -0.119929)"
   ]
  },
  {
   "cell_type": "code",
   "execution_count": null,
   "metadata": {},
   "outputs": [],
   "source": []
  }
 ],
 "metadata": {
  "kernelspec": {
   "display_name": "Python 3 (ipykernel)",
   "language": "python",
   "name": "python3"
  },
  "language_info": {
   "codemirror_mode": {
    "name": "ipython",
    "version": 3
   },
   "file_extension": ".py",
   "mimetype": "text/x-python",
   "name": "python",
   "nbconvert_exporter": "python",
   "pygments_lexer": "ipython3",
   "version": "3.11.4"
  }
 },
 "nbformat": 4,
 "nbformat_minor": 4
}
